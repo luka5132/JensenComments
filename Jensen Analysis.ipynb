{
 "cells": [
  {
   "cell_type": "code",
   "execution_count": 1,
   "metadata": {},
   "outputs": [
    {
     "data": {
      "text/html": [
       "<div>\n",
       "<style scoped>\n",
       "    .dataframe tbody tr th:only-of-type {\n",
       "        vertical-align: middle;\n",
       "    }\n",
       "\n",
       "    .dataframe tbody tr th {\n",
       "        vertical-align: top;\n",
       "    }\n",
       "\n",
       "    .dataframe thead th {\n",
       "        text-align: right;\n",
       "    }\n",
       "</style>\n",
       "<table border=\"1\" class=\"dataframe\">\n",
       "  <thead>\n",
       "    <tr style=\"text-align: right;\">\n",
       "      <th></th>\n",
       "      <th>gen_id</th>\n",
       "      <th>username</th>\n",
       "      <th>body</th>\n",
       "      <th>points</th>\n",
       "      <th>children</th>\n",
       "      <th>parents</th>\n",
       "      <th>date</th>\n",
       "      <th>date_retrieved</th>\n",
       "      <th>video_name</th>\n",
       "      <th>video_number</th>\n",
       "      <th>video_upload_time</th>\n",
       "    </tr>\n",
       "  </thead>\n",
       "  <tbody>\n",
       "    <tr>\n",
       "      <th>0</th>\n",
       "      <td>7fadff0cb1c60a16b262bf21b6b7e8bbcdfb73cb1c0706...</td>\n",
       "      <td>bart</td>\n",
       "      <td>WE ZIJN ER BIJNA, WE ZIJN ER BIJNA, MAAR NOG N...</td>\n",
       "      <td>0</td>\n",
       "      <td>NaN</td>\n",
       "      <td>NaN</td>\n",
       "      <td>2021-06-18 22:48:08</td>\n",
       "      <td>2021-06-18 22:09:14</td>\n",
       "      <td>ONEINDIGE DOMHEID - DE JENSEN SHOW</td>\n",
       "      <td>356</td>\n",
       "      <td>2021-06-18 14:35:51</td>\n",
       "    </tr>\n",
       "    <tr>\n",
       "      <th>1</th>\n",
       "      <td>0b4f25bab3fa41470e586b2e3d017fe208ca29d5fce609...</td>\n",
       "      <td>Jet</td>\n",
       "      <td>Over medisch manipulatie gesproken , deze kan ...</td>\n",
       "      <td>0</td>\n",
       "      <td>NaN</td>\n",
       "      <td>NaN</td>\n",
       "      <td>2021-06-18 22:43:16</td>\n",
       "      <td>2021-06-18 22:09:14</td>\n",
       "      <td>ONEINDIGE DOMHEID - DE JENSEN SHOW</td>\n",
       "      <td>356</td>\n",
       "      <td>2021-06-18 14:35:51</td>\n",
       "    </tr>\n",
       "    <tr>\n",
       "      <th>2</th>\n",
       "      <td>3e16f39da717b9bbc8acb40d28f93356986157a9b35569...</td>\n",
       "      <td>Petruss.Aureus</td>\n",
       "      <td>Ohh ja Robert, tijd, geschiedenis, hoort tot e...</td>\n",
       "      <td>0</td>\n",
       "      <td>NaN</td>\n",
       "      <td>NaN</td>\n",
       "      <td>2021-06-18 22:42:08</td>\n",
       "      <td>2021-06-18 22:09:14</td>\n",
       "      <td>ONEINDIGE DOMHEID - DE JENSEN SHOW</td>\n",
       "      <td>356</td>\n",
       "      <td>2021-06-18 14:35:51</td>\n",
       "    </tr>\n",
       "    <tr>\n",
       "      <th>3</th>\n",
       "      <td>2040b1137f54076443f06629e9d5e4ba2ad5dde012bb4c...</td>\n",
       "      <td>Elise</td>\n",
       "      <td>Waarom mensen het niet zien? Antwoordt van mij...</td>\n",
       "      <td>0</td>\n",
       "      <td>NaN</td>\n",
       "      <td>NaN</td>\n",
       "      <td>2021-06-18 22:40:02</td>\n",
       "      <td>2021-06-18 22:09:14</td>\n",
       "      <td>ONEINDIGE DOMHEID - DE JENSEN SHOW</td>\n",
       "      <td>356</td>\n",
       "      <td>2021-06-18 14:35:51</td>\n",
       "    </tr>\n",
       "    <tr>\n",
       "      <th>4</th>\n",
       "      <td>47a3c8ea3f22e7927edf0596e95f32f759e6c31951ee00...</td>\n",
       "      <td>Antonio Collenzo</td>\n",
       "      <td>Jezus en zijn apostelen zijn nog steeds in de ...</td>\n",
       "      <td>0</td>\n",
       "      <td>NaN</td>\n",
       "      <td>NaN</td>\n",
       "      <td>2021-06-18 22:39:28</td>\n",
       "      <td>2021-06-18 22:09:14</td>\n",
       "      <td>ONEINDIGE DOMHEID - DE JENSEN SHOW</td>\n",
       "      <td>356</td>\n",
       "      <td>2021-06-18 14:35:51</td>\n",
       "    </tr>\n",
       "  </tbody>\n",
       "</table>\n",
       "</div>"
      ],
      "text/plain": [
       "                                              gen_id          username  \\\n",
       "0  7fadff0cb1c60a16b262bf21b6b7e8bbcdfb73cb1c0706...              bart   \n",
       "1  0b4f25bab3fa41470e586b2e3d017fe208ca29d5fce609...               Jet   \n",
       "2  3e16f39da717b9bbc8acb40d28f93356986157a9b35569...    Petruss.Aureus   \n",
       "3  2040b1137f54076443f06629e9d5e4ba2ad5dde012bb4c...             Elise   \n",
       "4  47a3c8ea3f22e7927edf0596e95f32f759e6c31951ee00...  Antonio Collenzo   \n",
       "\n",
       "                                                body  points children parents  \\\n",
       "0  WE ZIJN ER BIJNA, WE ZIJN ER BIJNA, MAAR NOG N...       0      NaN     NaN   \n",
       "1  Over medisch manipulatie gesproken , deze kan ...       0      NaN     NaN   \n",
       "2  Ohh ja Robert, tijd, geschiedenis, hoort tot e...       0      NaN     NaN   \n",
       "3  Waarom mensen het niet zien? Antwoordt van mij...       0      NaN     NaN   \n",
       "4  Jezus en zijn apostelen zijn nog steeds in de ...       0      NaN     NaN   \n",
       "\n",
       "                  date       date_retrieved  \\\n",
       "0  2021-06-18 22:48:08  2021-06-18 22:09:14   \n",
       "1  2021-06-18 22:43:16  2021-06-18 22:09:14   \n",
       "2  2021-06-18 22:42:08  2021-06-18 22:09:14   \n",
       "3  2021-06-18 22:40:02  2021-06-18 22:09:14   \n",
       "4  2021-06-18 22:39:28  2021-06-18 22:09:14   \n",
       "\n",
       "                            video_name  video_number    video_upload_time  \n",
       "0  ONEINDIGE DOMHEID - DE JENSEN SHOW            356  2021-06-18 14:35:51  \n",
       "1  ONEINDIGE DOMHEID - DE JENSEN SHOW            356  2021-06-18 14:35:51  \n",
       "2  ONEINDIGE DOMHEID - DE JENSEN SHOW            356  2021-06-18 14:35:51  \n",
       "3  ONEINDIGE DOMHEID - DE JENSEN SHOW            356  2021-06-18 14:35:51  \n",
       "4  ONEINDIGE DOMHEID - DE JENSEN SHOW            356  2021-06-18 14:35:51  "
      ]
     },
     "execution_count": 1,
     "metadata": {},
     "output_type": "execute_result"
    }
   ],
   "source": [
    "import pandas as pd\n",
    "\n",
    "filename = 'jensen_comments.csv'\n",
    "df = pd.read_csv(filename)\n",
    "df.head()"
   ]
  },
  {
   "cell_type": "code",
   "execution_count": 54,
   "metadata": {},
   "outputs": [
    {
     "name": "stdout",
     "output_type": "stream",
     "text": [
      "From video 346, with name: \n",
      "GAST: ADAM CURRY - DEEL 2 - DE JENSEN SHOW \n",
      "\n",
      "Original Comment: \n",
      "Wellicht op het midden van de dag even een telefoontje plegen met iemand aan de andere kant van de aarde? Als het daar midden in de nacht en donker is, dan is de aarde waarschijnlijk toch gewoon rond. 🤣 \n",
      "\n",
      "Reply with lowest (-33) amount of points: \n",
      "Freija: de zon is een lokaal hemellichaam en staat geen 93 000 000 km van de aarde !<a href=\"https://www.youtube.com/watch?v=XLyLVzWZUpc\" rel=\"nofollow\">https://www.youtube.com/watch?v=XLyLVzWZUpc</a>\n"
     ]
    }
   ],
   "source": [
    "point_list = df.points.to_list()\n",
    "highest_points_df = df[df['points'] == max(point_list)]\n",
    "lowest_points_df = df[df['points'] == min(point_list)]\n",
    "lowest_points = lowest_points_df.points.to_list()[0]\n",
    "lowest_parent_id = lowest_points_df.parents.to_list()[0]\n",
    "lowest_parent_df = df[df['gen_id'] == lowest_parent_id]\n",
    "lowest_parent_text = lowest_parent_df.body.to_list()[0]\n",
    "lowest_points_text = lowest_points_df.body.to_list()[0]\n",
    "lowest_vid_name = lowest_parent_df.video_name.to_list()[0]\n",
    "lowest_vid_num = lowest_parent_df.video_number.to_list()[0]\n",
    "\n",
    "print(\"From video {}, with name: \\n{}\\n\".format(lowest_vid_num,lowest_vid_name))\n",
    "print(\"Original Comment: \\n{} \\n\\nReply with lowest ({}) amount of points: \\n{}\".format(lowest_parent_text,\n",
    "                                                                                       lowest_points,\n",
    "                                                                                       lowest_points_text))"
   ]
  },
  {
   "cell_type": "code",
   "execution_count": 14,
   "metadata": {},
   "outputs": [
    {
     "name": "stdout",
     "output_type": "stream",
     "text": [
      "From video 346, with name: \n",
      "GAST: ADAM CURRY - DEEL 2 - DE JENSEN SHOW \n",
      "\n",
      "Comment with most (33) points: \n",
      "robert, ga eens aub een beetje modereren, bijna alle reacties hieronder zijn van platte aarde gekkies of giga jodenhaters.de comment-sectie werkt met dergelijke reacties niet in jouw voordeel als je nog langer serieus genomen wilt worden.......\n"
     ]
    }
   ],
   "source": [
    "highest_points_points = highest_points_df.points.to_list()[0]\n",
    "highest_points_body = highest_points_df.body.to_list()[0]\n",
    "highest_vid_name = highest_points_df.video_name.to_list()[0]\n",
    "highest_vid_num = highest_points_df.video_number.to_list()[0]\n",
    "print(\"From video {}, with name: \\n{}\\n\".format(highest_vid_num,highest_vid_name))\n",
    "print(\"Comment with most ({}) points: \\n{}\".format(highest_points_points,highest_points_body))"
   ]
  },
  {
   "cell_type": "code",
   "execution_count": 55,
   "metadata": {},
   "outputs": [
    {
     "name": "stdout",
     "output_type": "stream",
     "text": [
      "Sum of all points: 3999\n"
     ]
    }
   ],
   "source": [
    "print('Sum of all points: {}'.format(sum(point_list)))"
   ]
  },
  {
   "cell_type": "markdown",
   "metadata": {},
   "source": [
    "# Closer Look at users"
   ]
  },
  {
   "cell_type": "code",
   "execution_count": 39,
   "metadata": {},
   "outputs": [
    {
     "name": "stdout",
     "output_type": "stream",
     "text": [
      "Total of 885 unqiue commenters\n",
      "\n",
      "Top 10 most common users:\n",
      "Sherman-Dozer with 913 comments\n",
      "Jet with 518 comments\n",
      "wilhelmina  with 319 comments\n",
      "Dan James with 198 comments\n",
      "defenz with 184 comments\n",
      "[deleted] with 154 comments\n",
      "-- with 89 comments\n",
      "Guido with 81 comments\n",
      "Anonymous with 81 comments\n",
      "klojo pendejo with 68 comments\n",
      "Responsible for 2605 comments, which is 0.34448558582385613% of total comments\n"
     ]
    }
   ],
   "source": [
    "from collections import Counter\n",
    "user_list = df.username.to_list()\n",
    "unique_user_list = df.username.unique()\n",
    "print(\"Total of {} unqiue commenters\\n\".format(len(unique_user_list)))\n",
    "user_count = Counter(user_list)\n",
    "top10 = user_count.most_common(10)\n",
    "print(\"Top 10 most common users:\")\n",
    "tot = 0\n",
    "for user, n in top10:\n",
    "    print(\"{} with {} comments\".format(user,n))\n",
    "    tot += n\n",
    "print(\"Responsible for {} comments, which is {}% of total comments\".format(tot, tot / len(user_list)))\n"
   ]
  },
  {
   "cell_type": "code",
   "execution_count": 76,
   "metadata": {},
   "outputs": [
    {
     "name": "stdout",
     "output_type": "stream",
     "text": [
      "Top 10 users with the most average points:\n",
      "\n",
      "Lucien with 6.0 avarage points over 5 total comments\n",
      "jo with 5.625 avarage points over 8 total comments\n",
      "Henk Klavers with 4.666666666666667 avarage points over 6 total comments\n",
      "Leon van den Berg with 4.4 avarage points over 5 total comments\n",
      "Brenden with 4.222222222222222 avarage points over 9 total comments\n",
      "Sjavanna Wandela with 3.8333333333333335 avarage points over 6 total comments\n",
      "Trude Vinke with 3.5 avarage points over 22 total comments\n",
      "A3 with 3.4 avarage points over 5 total comments\n",
      "Hugo with 3.3333333333333335 avarage points over 12 total comments\n",
      "Wim Lijbrink with 3.302325581395349 avarage points over 43 total comments\n",
      "\n",
      "Top 10 users with the least average points:\n",
      "\n",
      "B.Mic with -19.8 avarage points over 5 total comments\n",
      "Ali Ayan-2 with -8.777777777777779 avarage points over 18 total comments\n",
      "sunshinedotcom with -7.023255813953488 avarage points over 43 total comments\n",
      "Jan van Excel with -7.0 avarage points over 5 total comments\n",
      "Adriaan with -6.0 avarage points over 5 total comments\n",
      "UnTrustable with -5.423076923076923 avarage points over 26 total comments\n",
      "Robbert with -5.333333333333333 avarage points over 12 total comments\n",
      "XingFu with -3.764705882352941 avarage points over 34 total comments\n",
      "Segrieeadreset with -3.3076923076923075 avarage points over 13 total comments\n",
      "[deleted] with -3.0714285714285716 avarage points over 154 total comments\n"
     ]
    }
   ],
   "source": [
    "MIN_COMMENTS = 5\n",
    "WITH_TRESHOLD = True\n",
    "\n",
    "mean_df_username = df.groupby(['username']).mean()\n",
    "count_df_vid = df.groupby(['video_number']).count()\n",
    "name_list = mean_df_username.index.to_list()\n",
    "comm_per_name = [user_count[n] for n in name_list]\n",
    "mean_df_username['tot_comments'] = comm_per_name\n",
    "if WITH_TRESHOLD:\n",
    "    mean_df_username = mean_df_username[mean_df_username['tot_comments'] >= MIN_COMMENTS]\n",
    "mean_df_sorted = mean_df_username.sort_values(['points'])\n",
    "top10 = mean_df_sorted[-10:]\n",
    "top10_names = top10.index.to_list()\n",
    "top10_points = top10.points.to_list()\n",
    "top10_names.reverse()\n",
    "top10_points.reverse()\n",
    "print(\"Top 10 users with the most average points:\\n\")\n",
    "for i,name in enumerate(top10_names):\n",
    "    print(\"{} with {} avarage points over {} total comments\".format(name,top10_points[i],\n",
    "                                                                    user_count[name]))\n",
    "    \n",
    "bottom10 = mean_df_sorted[:10]\n",
    "bottom10_names = bottom10.index.to_list()\n",
    "bottom10_points = bottom10.points.to_list()\n",
    "print(\"\\nTop 10 users with the least average points:\\n\")\n",
    "for i,name in enumerate(bottom10_names):\n",
    "    print(\"{} with {} avarage points over {} total comments\".format(name,bottom10_points[i],\n",
    "                                                                    user_count[name]))\n"
   ]
  },
  {
   "cell_type": "code",
   "execution_count": 65,
   "metadata": {},
   "outputs": [
    {
     "data": {
      "text/plain": [
       "Index(['points', 'video_number'], dtype='object')"
      ]
     },
     "execution_count": 65,
     "metadata": {},
     "output_type": "execute_result"
    }
   ],
   "source": [
    "top10.columns"
   ]
  },
  {
   "cell_type": "code",
   "execution_count": 16,
   "metadata": {},
   "outputs": [
    {
     "name": "stdout",
     "output_type": "stream",
     "text": [
      "adkfjasldkfjfkda\n"
     ]
    }
   ],
   "source": [
    "import re\n",
    "\n",
    "exstr = \"ahdfasdfkladjioafjsdaa\"\n",
    "ex2 = \"fkajdkl<a>adkfjasldkfjfkda</a>adad\"\n",
    "ex1res = re.search('<a>(.*?)</a>', exstr)\n",
    "ex2res = re.search('<a>(.*?)</a>', ex2)\n",
    "if ex1res:\n",
    "    print(ex1res.group(1))\n",
    "if ex2res:\n",
    "    print(ex2res.group(1))"
   ]
  },
  {
   "cell_type": "code",
   "execution_count": 49,
   "metadata": {},
   "outputs": [
    {
     "name": "stdout",
     "output_type": "stream",
     "text": [
      "total links found: 1831\n"
     ]
    }
   ],
   "source": [
    "def extract_links_from_comments(comment_list):\n",
    "    link_list = []\n",
    "    n = 0\n",
    "    for comment in comment_list:\n",
    "        srch = re.findall('href=\"(.*?)\"', comment)\n",
    "        if srch:\n",
    "            to_str = ' '.join(srch)\n",
    "            link_list.append(to_str)\n",
    "            n+= len(srch)\n",
    "        else:\n",
    "            link_list.append('')\n",
    "    print('total links found: {}'.format(n))\n",
    "    return link_list\n",
    "\n",
    "link_list = extract_links_from_comments(df.body.to_list())"
   ]
  },
  {
   "cell_type": "code",
   "execution_count": 50,
   "metadata": {},
   "outputs": [
    {
     "data": {
      "text/html": [
       "<div>\n",
       "<style scoped>\n",
       "    .dataframe tbody tr th:only-of-type {\n",
       "        vertical-align: middle;\n",
       "    }\n",
       "\n",
       "    .dataframe tbody tr th {\n",
       "        vertical-align: top;\n",
       "    }\n",
       "\n",
       "    .dataframe thead th {\n",
       "        text-align: right;\n",
       "    }\n",
       "</style>\n",
       "<table border=\"1\" class=\"dataframe\">\n",
       "  <thead>\n",
       "    <tr style=\"text-align: right;\">\n",
       "      <th></th>\n",
       "      <th>gen_id</th>\n",
       "      <th>username</th>\n",
       "      <th>body</th>\n",
       "      <th>points</th>\n",
       "      <th>children</th>\n",
       "      <th>parents</th>\n",
       "      <th>date</th>\n",
       "      <th>date_retrieved</th>\n",
       "      <th>video_name</th>\n",
       "      <th>video_number</th>\n",
       "      <th>video_upload_time</th>\n",
       "      <th>links</th>\n",
       "    </tr>\n",
       "  </thead>\n",
       "  <tbody>\n",
       "    <tr>\n",
       "      <th>15</th>\n",
       "      <td>76a5eaf3b826faf1af6bd266f7db9a165760ddca22afe5...</td>\n",
       "      <td>Miauuw</td>\n",
       "      <td>&lt;a href=\"https://narcismegids.com/pathologisch...</td>\n",
       "      <td>1</td>\n",
       "      <td>;e0c211e74fb134e48ea9e8e3ad84b49a6bdfa64c61e2f...</td>\n",
       "      <td>NaN</td>\n",
       "      <td>2021-06-18 21:39:59</td>\n",
       "      <td>2021-06-18 22:09:14</td>\n",
       "      <td>ONEINDIGE DOMHEID - DE JENSEN SHOW</td>\n",
       "      <td>356</td>\n",
       "      <td>2021-06-18 14:35:51</td>\n",
       "      <td>https://narcismegids.com/pathologisch-liegen/</td>\n",
       "    </tr>\n",
       "    <tr>\n",
       "      <th>24</th>\n",
       "      <td>1721c967d17a47207e740e51c6bb0563a50f63f6af11a9...</td>\n",
       "      <td>Harm Bos</td>\n",
       "      <td>Deze fam is gek die voert zijn kind onjuist op...</td>\n",
       "      <td>1</td>\n",
       "      <td>;c05806a1be2444f1ba0ebc24f92ab996915c27986f4f9...</td>\n",
       "      <td>NaN</td>\n",
       "      <td>2021-06-18 20:21:55</td>\n",
       "      <td>2021-06-18 22:09:14</td>\n",
       "      <td>ONEINDIGE DOMHEID - DE JENSEN SHOW</td>\n",
       "      <td>356</td>\n",
       "      <td>2021-06-18 14:35:51</td>\n",
       "      <td>https://youtu.be/d4Lq1vzBa9g</td>\n",
       "    </tr>\n",
       "    <tr>\n",
       "      <th>25</th>\n",
       "      <td>c05806a1be2444f1ba0ebc24f92ab996915c27986f4f9c...</td>\n",
       "      <td>Sherman-Dozer</td>\n",
       "      <td>Bos een flinke tijd terug heb ik iets van deze...</td>\n",
       "      <td>0</td>\n",
       "      <td>NaN</td>\n",
       "      <td>1721c967d17a47207e740e51c6bb0563a50f63f6af11a9...</td>\n",
       "      <td>2021-06-18 22:31:05</td>\n",
       "      <td>2021-06-18 22:09:14</td>\n",
       "      <td>ONEINDIGE DOMHEID - DE JENSEN SHOW</td>\n",
       "      <td>356</td>\n",
       "      <td>2021-06-18 14:35:51</td>\n",
       "      <td>https://www.bitchute.com/video/1xKOnp6WPxoV/ h...</td>\n",
       "    </tr>\n",
       "    <tr>\n",
       "      <th>31</th>\n",
       "      <td>7b8fc064a892de74ad99dd97bbde9b9acc4d4ce475e3b8...</td>\n",
       "      <td>Sola Scriptura</td>\n",
       "      <td>Te uwer informatie: Emeritus Hoogleraar Prof. ...</td>\n",
       "      <td>0</td>\n",
       "      <td>NaN</td>\n",
       "      <td>NaN</td>\n",
       "      <td>2021-06-18 19:35:33</td>\n",
       "      <td>2021-06-18 22:09:14</td>\n",
       "      <td>ONEINDIGE DOMHEID - DE JENSEN SHOW</td>\n",
       "      <td>356</td>\n",
       "      <td>2021-06-18 14:35:51</td>\n",
       "      <td>https://www.xandernieuws.net/algemeen/professo...</td>\n",
       "    </tr>\n",
       "    <tr>\n",
       "      <th>49</th>\n",
       "      <td>ed83eac8dd275216c0e9cb7f780fad01a3e5ed586982b9...</td>\n",
       "      <td>Sherman-Dozer</td>\n",
       "      <td>Hoi. Het hypocriete Westen en Kaddafi &lt;a href=...</td>\n",
       "      <td>2</td>\n",
       "      <td>;65257882660f4ce7d68a7b8dd64c311f17438278fd7fa...</td>\n",
       "      <td>NaN</td>\n",
       "      <td>2021-06-18 18:02:35</td>\n",
       "      <td>2021-06-18 22:09:14</td>\n",
       "      <td>ONEINDIGE DOMHEID - DE JENSEN SHOW</td>\n",
       "      <td>356</td>\n",
       "      <td>2021-06-18 14:35:51</td>\n",
       "      <td>https://odysee.com/@survivalisme-survie:a/affa...</td>\n",
       "    </tr>\n",
       "  </tbody>\n",
       "</table>\n",
       "</div>"
      ],
      "text/plain": [
       "                                               gen_id        username  \\\n",
       "15  76a5eaf3b826faf1af6bd266f7db9a165760ddca22afe5...          Miauuw   \n",
       "24  1721c967d17a47207e740e51c6bb0563a50f63f6af11a9...        Harm Bos   \n",
       "25  c05806a1be2444f1ba0ebc24f92ab996915c27986f4f9c...   Sherman-Dozer   \n",
       "31  7b8fc064a892de74ad99dd97bbde9b9acc4d4ce475e3b8...  Sola Scriptura   \n",
       "49  ed83eac8dd275216c0e9cb7f780fad01a3e5ed586982b9...   Sherman-Dozer   \n",
       "\n",
       "                                                 body  points  \\\n",
       "15  <a href=\"https://narcismegids.com/pathologisch...       1   \n",
       "24  Deze fam is gek die voert zijn kind onjuist op...       1   \n",
       "25  Bos een flinke tijd terug heb ik iets van deze...       0   \n",
       "31  Te uwer informatie: Emeritus Hoogleraar Prof. ...       0   \n",
       "49  Hoi. Het hypocriete Westen en Kaddafi <a href=...       2   \n",
       "\n",
       "                                             children  \\\n",
       "15  ;e0c211e74fb134e48ea9e8e3ad84b49a6bdfa64c61e2f...   \n",
       "24  ;c05806a1be2444f1ba0ebc24f92ab996915c27986f4f9...   \n",
       "25                                                NaN   \n",
       "31                                                NaN   \n",
       "49  ;65257882660f4ce7d68a7b8dd64c311f17438278fd7fa...   \n",
       "\n",
       "                                              parents                 date  \\\n",
       "15                                                NaN  2021-06-18 21:39:59   \n",
       "24                                                NaN  2021-06-18 20:21:55   \n",
       "25  1721c967d17a47207e740e51c6bb0563a50f63f6af11a9...  2021-06-18 22:31:05   \n",
       "31                                                NaN  2021-06-18 19:35:33   \n",
       "49                                                NaN  2021-06-18 18:02:35   \n",
       "\n",
       "         date_retrieved                           video_name  video_number  \\\n",
       "15  2021-06-18 22:09:14  ONEINDIGE DOMHEID - DE JENSEN SHOW            356   \n",
       "24  2021-06-18 22:09:14  ONEINDIGE DOMHEID - DE JENSEN SHOW            356   \n",
       "25  2021-06-18 22:09:14  ONEINDIGE DOMHEID - DE JENSEN SHOW            356   \n",
       "31  2021-06-18 22:09:14  ONEINDIGE DOMHEID - DE JENSEN SHOW            356   \n",
       "49  2021-06-18 22:09:14  ONEINDIGE DOMHEID - DE JENSEN SHOW            356   \n",
       "\n",
       "      video_upload_time                                              links  \n",
       "15  2021-06-18 14:35:51      https://narcismegids.com/pathologisch-liegen/  \n",
       "24  2021-06-18 14:35:51                       https://youtu.be/d4Lq1vzBa9g  \n",
       "25  2021-06-18 14:35:51  https://www.bitchute.com/video/1xKOnp6WPxoV/ h...  \n",
       "31  2021-06-18 14:35:51  https://www.xandernieuws.net/algemeen/professo...  \n",
       "49  2021-06-18 14:35:51  https://odysee.com/@survivalisme-survie:a/affa...  "
      ]
     },
     "execution_count": 50,
     "metadata": {},
     "output_type": "execute_result"
    }
   ],
   "source": [
    "df_with_links = df.copy()\n",
    "df_with_links['links'] = link_list\n",
    "df_only_links = df_with_links[df_with_links['links'] != '']\n",
    "df_only_links.head()"
   ]
  },
  {
   "cell_type": "code",
   "execution_count": 40,
   "metadata": {},
   "outputs": [
    {
     "name": "stdout",
     "output_type": "stream",
     "text": [
      "Total of 248 unique users that post links\n",
      "Top 10 most common users that post links:\n",
      "Sherman-Dozer with 313 comments\n",
      "wilhelmina  with 279 comments\n",
      "-- with 78 comments\n",
      "Cor with 46 comments\n",
      "Ad S. with 33 comments\n",
      "Check  with 28 comments\n",
      "Koning Willen III with 26 comments\n",
      "Jet with 26 comments\n",
      "Dan James with 22 comments\n",
      "[deleted] with 19 comments\n",
      "Responsible for 870 comments, which is 0.11504892885480032% of total links\n"
     ]
    }
   ],
   "source": [
    "users_only_links = df_only_links.username.to_list()\n",
    "users_only_links_unique = df_only_links.username.unique()\n",
    "print(\"Total of {} unique users that post links\".format(len(users_only_links_unique)))\n",
    "only_links_counts = Counter(users_only_links)\n",
    "top10_only_links = only_links_counts.most_common(10)\n",
    "print(\"Top 10 most common users that post links:\")\n",
    "tot = 0\n",
    "for user, n in top10_only_links:\n",
    "    print(\"{} with {} comments\".format(user,n))\n",
    "    tot += n\n",
    "print(\"Responsible for {} comments, which is {}% of total links\".format(tot, tot / len(user_list)))\n"
   ]
  },
  {
   "cell_type": "code",
   "execution_count": null,
   "metadata": {},
   "outputs": [],
   "source": []
  }
 ],
 "metadata": {
  "kernelspec": {
   "display_name": "Python 3",
   "language": "python",
   "name": "python3"
  },
  "language_info": {
   "codemirror_mode": {
    "name": "ipython",
    "version": 3
   },
   "file_extension": ".py",
   "mimetype": "text/x-python",
   "name": "python",
   "nbconvert_exporter": "python",
   "pygments_lexer": "ipython3",
   "version": "3.7.9"
  }
 },
 "nbformat": 4,
 "nbformat_minor": 4
}
